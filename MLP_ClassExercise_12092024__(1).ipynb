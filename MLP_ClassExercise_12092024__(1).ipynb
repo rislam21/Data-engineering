{
  "cells": [
    {
      "cell_type": "markdown",
      "metadata": {
        "id": "view-in-github",
        "colab_type": "text"
      },
      "source": [
        "<a href=\"https://colab.research.google.com/github/rislam21/Data-engineering/blob/main/MLP_ClassExercise_12092024__(1).ipynb\" target=\"_parent\"><img src=\"https://colab.research.google.com/assets/colab-badge.svg\" alt=\"Open In Colab\"/></a>"
      ]
    },
    {
      "cell_type": "markdown",
      "metadata": {
        "id": "QleWkNk1Qr8c"
      },
      "source": [
        "\n",
        "**Exercise 1: Implementing a Single Neuron**\n",
        "\n",
        "**Objective:** Understand the basic structure of a neuron.\n",
        "\n",
        "\n",
        "**Task:** Write a Python function that implements a single neuron. The neuron should take an input vector **X**\n",
        "and a weight vector **W**, apply a linear combination, and then apply a sigmoid activation function.\n",
        "\n",
        "$z = \\sigma\\left(\\sum_{i=1}^{n} w_i x_i + b\\right)$\n",
        "\n",
        "Hint: Here is the sigmoid ($\\sigma$)function formula:\n",
        "\n",
        "$\\sigma(x) = \\frac{1}{1 + e^{-x}}$"
      ]
    },
    {
      "cell_type": "code",
      "execution_count": 2,
      "metadata": {
        "id": "cF5N6S3hRZRy",
        "colab": {
          "base_uri": "https://localhost:8080/"
        },
        "outputId": "e58aecbf-0cec-46ad-cfd7-bb291b6dc1a7"
      },
      "outputs": [
        {
          "output_type": "stream",
          "name": "stdout",
          "text": [
            "Output: 0.6509005438802886\n",
            "Expected Output: 0.6509005438802886\n"
          ]
        }
      ],
      "source": [
        "import numpy as np\n",
        "\n",
        "def sigmoid(x):\n",
        "    \"\"\"\n",
        "    Compute the sigmoid function.\n",
        "\n",
        "    Parameters\n",
        "    ----------\n",
        "    x : array_like\n",
        "        Data point values for x-axis.\n",
        "\n",
        "    Returns\n",
        "    -------\n",
        "    z : float\n",
        "      a value between 0 and 1.\n",
        "    \"\"\"\n",
        "    ####### Your Code Here #########\n",
        "    z = 1 / (1 + np.exp(-x))\n",
        "    ################################\n",
        "    return z\n",
        "\n",
        "def single_neuron(x, w, b):\n",
        "    \"\"\"\n",
        "    Implement the forward pass. Calculate the weighted sum (z = w*x + b)\n",
        "    Hint: Use np.dot for the weighted sum, then apply sigmoid\n",
        "    Parameters\n",
        "    ----------\n",
        "    x : array_like\n",
        "        Data point values (input values).\n",
        "    w : array_like\n",
        "        Data point values (random weights).\n",
        "    b : float\n",
        "        Data point values (bias).\n",
        "    Returns\n",
        "    -------\n",
        "    z : float\n",
        "      a value between 0 and 1.\n",
        "    \"\"\"\n",
        "    ####### Your Code Here #########\n",
        "    z = np.dot(w, x) + b\n",
        "    ################################\n",
        "    return sigmoid(z)\n",
        "\n",
        "# Test the function with some inputs\n",
        "x = np.array([0.0, 0.5, -0.2, 0.1, 0.4, 0.3, -0.88, 0.4, 0.15, 0.69])\n",
        "w = np.array([0.4, 0.6, -0.8, 0.2, 0.3, 0.4, 0.6, -0.5, -0.6, 0.9])\n",
        "b = 0.1\n",
        "output = single_neuron(x, w, b)\n",
        "print(\"Output:\", output)\n",
        "print(\"Expected Output: 0.6509005438802886\")"
      ]
    },
    {
      "cell_type": "markdown",
      "metadata": {
        "id": "n9TslqjzS76b"
      },
      "source": [
        "**Exercise 2: Implementing a Simple Layer**\n",
        "\n",
        "**Objective:** Learn to stack neurons into a single layer.\n",
        "\n",
        "**Task:** Extend the single neuron into a layer of neurons. Implement a function that takes an input vector, a matrix of weights, and a vector of biases, and returns the output of the layer.\n"
      ]
    },
    {
      "cell_type": "code",
      "execution_count": 3,
      "metadata": {
        "id": "rW9IPFzUTMMR",
        "colab": {
          "base_uri": "https://localhost:8080/"
        },
        "outputId": "019c555f-7f0b-41ba-b50f-c4645d0a239d"
      },
      "outputs": [
        {
          "output_type": "stream",
          "name": "stdout",
          "text": [
            "Layer Output: [0.52497919 0.50749944]\n",
            "Expected Layer Output: [0.52497919 0.50749944]\n"
          ]
        }
      ],
      "source": [
        "def layer(x, W, b):\n",
        "\n",
        "    \"\"\"\n",
        "    Extend the single neuron into a layer of neurons.\n",
        "    Implement a function that takes an input vector, a matrix of weights, and a vector of biases, and returns the output of the layer.\n",
        "    ----------\n",
        "    x : array_like\n",
        "        Data point values (input values).\n",
        "    W :  array_like\n",
        "        multidimensional array of data point values (weights).\n",
        "    b : array_like\n",
        "        Data point values (bias).\n",
        "    Returns\n",
        "    -------\n",
        "    z : array_like\n",
        "       output values between 0 and 1.\n",
        "\n",
        "    \"\"\"\n",
        "\n",
        "    ####### Your Code Here #########\n",
        "\n",
        "    z = np.dot(W, x) + b\n",
        "\n",
        "    ################################\n",
        "\n",
        "\n",
        "    return sigmoid(z)\n",
        "\n",
        "# Test the function with some inputs\n",
        "x = np.array([0.5, -0.2, 0.1])\n",
        "W = np.array([[0.4, 0.6, -0.8],\n",
        "              [0.2, -0.5, 0.3]])\n",
        "b = np.array([0.1, -0.2])\n",
        "output = layer(x, W, b)\n",
        "print(\"Layer Output:\", output)\n",
        "print(\"Expected Layer Output: [0.52497919 0.50749944]\")"
      ]
    },
    {
      "cell_type": "markdown",
      "metadata": {
        "id": "0jY_B2yqDxoq"
      },
      "source": [
        "**Exercise 2: Implementing a Simple Layer**\n",
        "\n",
        "**Objective:** Learn to stack neurons into a single layer.\n",
        "\n",
        "**Task:** Extend the single neuron into a layer of neurons. Implement a function that takes an input vector, a matrix of weights, and a vector of biases, and returns the output of the layer.\n"
      ]
    },
    {
      "cell_type": "markdown",
      "metadata": {
        "id": "my34jl-AVSKs"
      },
      "source": [
        "**Exercise 3: Building a Two-Layer MLP**\n",
        "\n",
        "**Objective:** Understand how to combine multiple layers into a network.\n"
      ]
    },
    {
      "cell_type": "code",
      "execution_count": 4,
      "metadata": {
        "id": "9h0D_cnmVOJd",
        "colab": {
          "base_uri": "https://localhost:8080/"
        },
        "outputId": "4cdb7f1c-aae7-4b90-df24-59ea0f45ba20"
      },
      "outputs": [
        {
          "output_type": "stream",
          "name": "stdout",
          "text": [
            "MLP Output: [0.56579959 0.5265988 ]\n",
            "Expected MLP Output: [0.56579959 0.5265988]\n"
          ]
        }
      ],
      "source": [
        "def two_layer_mlp(x, W1, b1, W2, b2):\n",
        "  \"\"\"\n",
        "  Implement a simple two-layer MLP by stacking two layers from the previous exercise.\n",
        "  The first layer should have 3 neurons, and the second layer should have 2 neurons.\n",
        "  x : array_like\n",
        "      Data point values (input values).\n",
        "  W1 :  array_like\n",
        "      multidimensional array of data point values (weights).\n",
        "  b1 : array_like\n",
        "      Data point values (bias)\n",
        "\n",
        "  W2 :  array_like\n",
        "      multidimensional array of data point values (weights).\n",
        "  b2 : array_like\n",
        "      Data point values (bias)\n",
        "  Returns\n",
        "  -------\n",
        "  output : array_like\n",
        "      output values between 0 and 1.\n",
        "  \"\"\"\n",
        "  ####### Your Code Here #########\n",
        "  # First layer  Hint: use the layer function (neuron) you built previously.\n",
        "  layer1_output = layer(x, W1, b1)\n",
        "  # Second layer\n",
        "  output = layer(layer1_output, W2, b2)\n",
        "\n",
        "  ################################\n",
        "\n",
        "  return output\n",
        "\n",
        "# Test the function with some inputs\n",
        "x = np.array([0.5, -0.2, 0.1])\n",
        "W1 = np.array([[0.4, 0.6, -0.8],\n",
        "               [0.2, -0.5, 0.3],\n",
        "               [-0.3, 0.7, 0.9]])\n",
        "b1 = np.array([0.1, -0.2, 0.3])\n",
        "\n",
        "W2 = np.array([[0.3, -0.7, 0.5],\n",
        "               [-0.6, 0.2, 0.8]])\n",
        "b2 = np.array([0.2, -0.1])\n",
        "\n",
        "output = two_layer_mlp(x, W1, b1, W2, b2)\n",
        "print(\"MLP Output:\", output)\n",
        "print(\"Expected MLP Output: [0.56579959 0.5265988]\")\n"
      ]
    },
    {
      "cell_type": "markdown",
      "metadata": {
        "id": "UfthVtSCck5s"
      },
      "source": [
        "**Exercise 4: Example of MLP for MNIST Digit Recognition in TensorFlow**\n",
        "\n",
        "**Objective:** Python code for classifying the MNIST dataset using a Multilayer Perceptron (MLP) with Keras (TensorFlow backend). This MLP includes one hidden layer with ReLU activation and is trained using the Adam optimizer\n"
      ]
    },
    {
      "cell_type": "code",
      "execution_count": 5,
      "metadata": {
        "id": "eMyYoc9-kcFo",
        "colab": {
          "base_uri": "https://localhost:8080/"
        },
        "outputId": "40dc50e4-a956-4045-d48e-cc2ac81a39e3"
      },
      "outputs": [
        {
          "output_type": "stream",
          "name": "stdout",
          "text": [
            "Downloading data from https://storage.googleapis.com/tensorflow/tf-keras-datasets/mnist.npz\n",
            "\u001b[1m11490434/11490434\u001b[0m \u001b[32m━━━━━━━━━━━━━━━━━━━━\u001b[0m\u001b[37m\u001b[0m \u001b[1m2s\u001b[0m 0us/step\n"
          ]
        },
        {
          "output_type": "stream",
          "name": "stderr",
          "text": [
            "/usr/local/lib/python3.10/dist-packages/keras/src/layers/core/dense.py:87: UserWarning: Do not pass an `input_shape`/`input_dim` argument to a layer. When using Sequential models, prefer using an `Input(shape)` object as the first layer in the model instead.\n",
            "  super().__init__(activity_regularizer=activity_regularizer, **kwargs)\n"
          ]
        },
        {
          "output_type": "stream",
          "name": "stdout",
          "text": [
            "Epoch 1/5\n",
            "\u001b[1m1875/1875\u001b[0m \u001b[32m━━━━━━━━━━━━━━━━━━━━\u001b[0m\u001b[37m\u001b[0m \u001b[1m7s\u001b[0m 2ms/step - accuracy: 0.8563 - loss: 0.4658\n",
            "Epoch 2/5\n",
            "\u001b[1m1875/1875\u001b[0m \u001b[32m━━━━━━━━━━━━━━━━━━━━\u001b[0m\u001b[37m\u001b[0m \u001b[1m8s\u001b[0m 2ms/step - accuracy: 0.9665 - loss: 0.1098\n",
            "Epoch 3/5\n",
            "\u001b[1m1875/1875\u001b[0m \u001b[32m━━━━━━━━━━━━━━━━━━━━\u001b[0m\u001b[37m\u001b[0m \u001b[1m6s\u001b[0m 2ms/step - accuracy: 0.9771 - loss: 0.0728\n",
            "Epoch 4/5\n",
            "\u001b[1m1875/1875\u001b[0m \u001b[32m━━━━━━━━━━━━━━━━━━━━\u001b[0m\u001b[37m\u001b[0m \u001b[1m3s\u001b[0m 2ms/step - accuracy: 0.9825 - loss: 0.0556\n",
            "Epoch 5/5\n",
            "\u001b[1m1875/1875\u001b[0m \u001b[32m━━━━━━━━━━━━━━━━━━━━\u001b[0m\u001b[37m\u001b[0m \u001b[1m5s\u001b[0m 2ms/step - accuracy: 0.9859 - loss: 0.0435\n"
          ]
        },
        {
          "output_type": "execute_result",
          "data": {
            "text/plain": [
              "<keras.src.callbacks.history.History at 0x7fdf9b217940>"
            ]
          },
          "metadata": {},
          "execution_count": 5
        }
      ],
      "source": [
        "from tensorflow.keras.models import Sequential\n",
        "from tensorflow.keras.layers import Dense\n",
        "from tensorflow.keras.datasets import mnist\n",
        "from tensorflow.keras.utils import to_categorical\n",
        "\n",
        "(x_train, y_train), (x_test, y_test) = mnist.load_data()\n",
        "x_train = x_train.reshape((x_train.shape[0], 28 * 28)) / 255.0\n",
        "y_train = to_categorical(y_train)\n",
        "\n",
        "model = Sequential()\n",
        "model.add(Dense(128, activation='relu', input_shape=(28 * 28,)))\n",
        "model.add(Dense(64, activation='relu' ))\n",
        "model.add(Dense(32, activation='relu'))\n",
        "model.add(Dense(10, activation='softmax'))\n",
        "model.compile(optimizer='adam', loss='categorical_crossentropy', metrics=['accuracy'])\n",
        "model.fit(x_train, y_train, epochs=5)"
      ]
    },
    {
      "cell_type": "code",
      "execution_count": 6,
      "metadata": {
        "id": "qeLK0HOlFxcR",
        "colab": {
          "base_uri": "https://localhost:8080/",
          "height": 851
        },
        "outputId": "bae7d843-4ff6-45e7-9f51-54c7be4bd1d2"
      },
      "outputs": [
        {
          "output_type": "stream",
          "name": "stdout",
          "text": [
            "Epoch 1/10\n",
            "\u001b[1m469/469\u001b[0m \u001b[32m━━━━━━━━━━━━━━━━━━━━\u001b[0m\u001b[37m\u001b[0m \u001b[1m4s\u001b[0m 5ms/step - accuracy: 0.8329 - loss: 0.6037 - val_accuracy: 0.9537 - val_loss: 0.1552\n",
            "Epoch 2/10\n",
            "\u001b[1m469/469\u001b[0m \u001b[32m━━━━━━━━━━━━━━━━━━━━\u001b[0m\u001b[37m\u001b[0m \u001b[1m1s\u001b[0m 2ms/step - accuracy: 0.9570 - loss: 0.1448 - val_accuracy: 0.9617 - val_loss: 0.1213\n",
            "Epoch 3/10\n",
            "\u001b[1m469/469\u001b[0m \u001b[32m━━━━━━━━━━━━━━━━━━━━\u001b[0m\u001b[37m\u001b[0m \u001b[1m1s\u001b[0m 2ms/step - accuracy: 0.9731 - loss: 0.0915 - val_accuracy: 0.9719 - val_loss: 0.0914\n",
            "Epoch 4/10\n",
            "\u001b[1m469/469\u001b[0m \u001b[32m━━━━━━━━━━━━━━━━━━━━\u001b[0m\u001b[37m\u001b[0m \u001b[1m1s\u001b[0m 3ms/step - accuracy: 0.9787 - loss: 0.0697 - val_accuracy: 0.9715 - val_loss: 0.0882\n",
            "Epoch 5/10\n",
            "\u001b[1m469/469\u001b[0m \u001b[32m━━━━━━━━━━━━━━━━━━━━\u001b[0m\u001b[37m\u001b[0m \u001b[1m2s\u001b[0m 2ms/step - accuracy: 0.9832 - loss: 0.0560 - val_accuracy: 0.9738 - val_loss: 0.0844\n",
            "Epoch 6/10\n",
            "\u001b[1m469/469\u001b[0m \u001b[32m━━━━━━━━━━━━━━━━━━━━\u001b[0m\u001b[37m\u001b[0m \u001b[1m1s\u001b[0m 2ms/step - accuracy: 0.9864 - loss: 0.0458 - val_accuracy: 0.9789 - val_loss: 0.0720\n",
            "Epoch 7/10\n",
            "\u001b[1m469/469\u001b[0m \u001b[32m━━━━━━━━━━━━━━━━━━━━\u001b[0m\u001b[37m\u001b[0m \u001b[1m1s\u001b[0m 2ms/step - accuracy: 0.9899 - loss: 0.0334 - val_accuracy: 0.9757 - val_loss: 0.0799\n",
            "Epoch 8/10\n",
            "\u001b[1m469/469\u001b[0m \u001b[32m━━━━━━━━━━━━━━━━━━━━\u001b[0m\u001b[37m\u001b[0m \u001b[1m1s\u001b[0m 2ms/step - accuracy: 0.9911 - loss: 0.0292 - val_accuracy: 0.9785 - val_loss: 0.0734\n",
            "Epoch 9/10\n",
            "\u001b[1m469/469\u001b[0m \u001b[32m━━━━━━━━━━━━━━━━━━━━\u001b[0m\u001b[37m\u001b[0m \u001b[1m1s\u001b[0m 2ms/step - accuracy: 0.9925 - loss: 0.0246 - val_accuracy: 0.9764 - val_loss: 0.0826\n",
            "Epoch 10/10\n",
            "\u001b[1m469/469\u001b[0m \u001b[32m━━━━━━━━━━━━━━━━━━━━\u001b[0m\u001b[37m\u001b[0m \u001b[1m1s\u001b[0m 2ms/step - accuracy: 0.9941 - loss: 0.0197 - val_accuracy: 0.9771 - val_loss: 0.0812\n",
            "\u001b[1m313/313\u001b[0m \u001b[32m━━━━━━━━━━━━━━━━━━━━\u001b[0m\u001b[37m\u001b[0m \u001b[1m1s\u001b[0m 1ms/step - accuracy: 0.9725 - loss: 0.0936\n",
            "Test Accuracy: 0.9771000146865845\n",
            "\u001b[1m313/313\u001b[0m \u001b[32m━━━━━━━━━━━━━━━━━━━━\u001b[0m\u001b[37m\u001b[0m \u001b[1m1s\u001b[0m 2ms/step\n"
          ]
        },
        {
          "output_type": "display_data",
          "data": {
            "text/plain": [
              "<Figure size 640x480 with 1 Axes>"
            ],
            "image/png": "[encoded data removed]"
          },
          "metadata": {}
        }
      ],
      "source": [
        "# Import necessary libraries\n",
        "import tensorflow as tf\n",
        "from tensorflow.keras.models import Sequential\n",
        "from tensorflow.keras.layers import Dense, Flatten\n",
        "from tensorflow.keras.datasets import mnist\n",
        "from tensorflow.keras.utils import to_categorical\n",
        "\n",
        "# Load MNIST dataset\n",
        "(x_train, y_train), (x_test, y_test) = mnist.load_data()\n",
        "\n",
        "# Preprocess the data\n",
        "# Flatten the images from 28x28 to 784\n",
        "x_train = x_train.reshape(x_train.shape[0], 28 * 28).astype('float32') / 255.0\n",
        "x_test = x_test.reshape(x_test.shape[0], 28 * 28).astype('float32') / 255.0\n",
        "\n",
        "# Convert labels to one-hot encoding\n",
        "y_train = to_categorical(y_train, 10)\n",
        "y_test = to_categorical(y_test, 10)\n",
        "\n",
        "# Build the MLP model\n",
        "model = Sequential()\n",
        "model.add(Dense(128, activation='relu', input_shape=(28 * 28,)))\n",
        "model.add(Dense(64, activation='relu'))  # Add more layers if needed\n",
        "model.add(Dense(10, activation='softmax'))  # Output layer for 10 classes (digits 0-9)\n",
        "\n",
        "# Compile the model\n",
        "model.compile(optimizer='adam', loss='categorical_crossentropy', metrics=['accuracy'])\n",
        "\n",
        "# Train the model\n",
        "model.fit(x_train, y_train, epochs=10, batch_size=128, validation_data=(x_test, y_test))\n",
        "\n",
        "# Evaluate the model on test data\n",
        "test_loss, test_acc = model.evaluate(x_test, y_test)\n",
        "print(f\"Test Accuracy: {test_acc}\")\n",
        "\n",
        "# Make predictions\n",
        "predictions = model.predict(x_test)\n",
        "\n",
        "# Optionally visualize predictions on a sample test image\n",
        "import numpy as np\n",
        "import matplotlib.pyplot as plt\n",
        "\n",
        "# Choose a random image from test set\n",
        "random_index = np.random.randint(0, x_test.shape[0])\n",
        "plt.imshow(x_test[random_index].reshape(28, 28), cmap='gray')\n",
        "plt.title(f\"Predicted: {np.argmax(predictions[random_index])}\")\n",
        "plt.show()\n"
      ]
    }
  ],
  "metadata": {
    "accelerator": "GPU",
    "colab": {
      "gpuType": "T4",
      "provenance": [],
      "include_colab_link": true
    },
    "kernelspec": {
      "display_name": "Python 3 (ipykernel)",
      "language": "python",
      "name": "python3"
    },
    "language_info": {
      "codemirror_mode": {
        "name": "ipython",
        "version": 3
      },
      "file_extension": ".py",
      "mimetype": "text/x-python",
      "name": "python",
      "nbconvert_exporter": "python",
      "pygments_lexer": "ipython3",
      "version": "3.12.4"
    }
  },
  "nbformat": 4,
  "nbformat_minor": 0
}