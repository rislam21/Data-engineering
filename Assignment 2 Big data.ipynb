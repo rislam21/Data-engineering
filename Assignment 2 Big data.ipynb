{
 "cells": [
  {
   "cell_type": "code",
   "execution_count": 1,
   "id": "c50b4da0",
   "metadata": {},
   "outputs": [
    {
     "name": "stdout",
     "output_type": "stream",
     "text": [
      "Current Working Directory: C:\\Users\\Käyttäjä\\Desktop\\jupitor file\n"
     ]
    }
   ],
   "source": [
    "import os\n",
    "\n",
    "# Get the current working directory\n",
    "current_directory = os.getcwd()\n",
    "\n",
    "# Print the current working directory\n",
    "print(\"Current Working Directory:\", current_directory)\n"
   ]
  },
  {
   "cell_type": "code",
   "execution_count": 5,
   "id": "e5f7519a",
   "metadata": {},
   "outputs": [
    {
     "name": "stdout",
     "output_type": "stream",
     "text": [
      "Current Working Directory: C:\\Users\\Käyttäjä\\Desktop\\data Management\n",
      "Updated Working Directory: C:\\Users\\Käyttäjä\\Desktop\\data Management\n"
     ]
    }
   ],
   "source": [
    "\n",
    "# Get the current working directory\n",
    "current_directory = os.getcwd()\n",
    "print(\"Current Working Directory:\", current_directory)\n",
    "\n",
    "# Change the working directory to a new path using a raw string\n",
    "new_directory = r\"C:\\Users\\Käyttäjä\\Desktop\\data Management\"\n",
    "os.chdir(new_directory)\n",
    "\n",
    "# Get the updated current working directory\n",
    "updated_directory = os.getcwd()\n",
    "print(\"Updated Working Directory:\", updated_directory)\n",
    "\n"
   ]
  },
  {
   "cell_type": "code",
   "execution_count": 6,
   "id": "1ae1d4eb",
   "metadata": {},
   "outputs": [
    {
     "name": "stdout",
     "output_type": "stream",
     "text": [
      "Current Working Directory: C:\\Users\\Käyttäjä\\Desktop\\data Management\n",
      "Contents of Current Working Directory:\n",
      "child deep mind state.csv\n",
      "titanic data.csv\n"
     ]
    }
   ],
   "source": [
    "\n",
    "\n",
    "# Get the current working directory\n",
    "current_directory = os.getcwd()\n",
    "print(\"Current Working Directory:\", current_directory)\n",
    "\n",
    "# List the contents of the current working directory\n",
    "directory_contents = os.listdir()\n",
    "print(\"Contents of Current Working Directory:\")\n",
    "for item in directory_contents:\n",
    "    print(item)\n"
   ]
  },
  {
   "cell_type": "code",
   "execution_count": 9,
   "id": "cae826f6",
   "metadata": {},
   "outputs": [
    {
     "name": "stdout",
     "output_type": "stream",
     "text": [
      "Grades for Paul: 5 4 5 3 4 5 5 4 2 4\n",
      "Average for Paul: 4.10\n",
      "\n",
      "Grades for Beth: 3 4 2 4 4 2 3 1 3 3\n",
      "Average for Beth: 2.90\n",
      "\n",
      "Grades for Ruth: 4 5 5 4 5 5 4 5 4 4\n",
      "Average for Ruth: 4.50\n",
      "\n",
      "***** Average of the class: 3.83\n"
     ]
    }
   ],
   "source": [
    "\n",
    "import csv\n",
    "\n",
    "def calculate_average(grades):\n",
    "    return sum(grades) / len(grades)\n",
    "\n",
    "# Open and read the CSV file\n",
    "filename = 'grades.csv'\n",
    "\n",
    "with open(filename, 'r', newline='', encoding='utf-8') as csvfile:\n",
    "    # Use ';' as the delimiter since it's specified in the problem\n",
    "    reader = csv.reader(csvfile, delimiter=';')\n",
    "    \n",
    "    # Skip the header row if it exists\n",
    "    header = next(reader, None)\n",
    "\n",
    "    # Initialize variables for overall class average\n",
    "    total_grades = []\n",
    "    total_students = 0\n",
    "\n",
    "    # Process each row in the CSV file\n",
    "    for row in reader:\n",
    "        # Extract student name and grades\n",
    "        student_name, *grades = row\n",
    "        \n",
    "        # Convert grades to integers\n",
    "        grades = list(map(int, grades))\n",
    "        \n",
    "        # Calculate and print individual student averages\n",
    "        avg_student = calculate_average(grades)\n",
    "        print(f\"Grades for {student_name}: {' '.join(map(str, grades))}\")\n",
    "        print(f\"Average for {student_name}: {avg_student:.2f}\\n\")\n",
    "        \n",
    "        # Update overall class average variables\n",
    "        total_grades.extend(grades)\n",
    "        total_students += 1\n",
    "\n",
    "    # Calculate and print overall class average\n",
    "    avg_class = calculate_average(total_grades)\n",
    "    print(f\"***** Average of the class: {avg_class:.2f}\")\n"
   ]
  },
  {
   "cell_type": "code",
   "execution_count": 11,
   "id": "00b7df75",
   "metadata": {},
   "outputs": [
    {
     "name": "stdout",
     "output_type": "stream",
     "text": [
      "Key 'KUITUVASTE_SUURI_1' not found in the JSON data.\n"
     ]
    }
   ],
   "source": [
    "import json\n",
    "\n",
    "# Open and read the JSON file\n",
    "with open('weather-data.json') as fh:\n",
    "    data = json.load(fh)\n",
    "\n",
    "# Check if 'KUITUVASTE_SUURI_1' key exists in the data\n",
    "if 'KUITUVASTE_SUURI_1' in data:\n",
    "    # Get the measurements for 'KUITUVASTE_SUURI_1'\n",
    "    measurements = data['KUITUVASTE_SUURI_1']\n",
    "    \n",
    "    # Find out the number of measurements made\n",
    "    num_measurements = len(measurements)\n",
    "    \n",
    "    print(f\"Number of KUITUVASTE_SUURI_1 measurements: {num_measurements}\")\n",
    "else:\n",
    "    print(\"Key 'KUITUVASTE_SUURI_1' not found in the JSON data.\")\n",
    "\n"
   ]
  },
  {
   "cell_type": "code",
   "execution_count": 13,
   "id": "41cb4a73",
   "metadata": {},
   "outputs": [
    {
     "name": "stdout",
     "output_type": "stream",
     "text": [
      "Keys used in the todos JSON: {'id', 'completed', 'title', 'userId'}\n",
      "Number of completed tasks: 90\n",
      "Number of tasks with 'delectus' in their title: 7\n",
      "\n",
      "User with the most completed tasks: Chelsey Dietrich (UserID: 5)\n"
     ]
    }
   ],
   "source": [
    "import requests\n",
    "\n",
    "def explore_json(json_data):\n",
    "    # Check if json_data is a list (for todos)\n",
    "    if isinstance(json_data, list):\n",
    "        # Get the keys used in the dictionary\n",
    "        keys_used = set(key for task in json_data for key in task.keys())\n",
    "\n",
    "        # Count the number of completed tasks\n",
    "        completed_tasks = sum(task['completed'] for task in json_data)\n",
    "\n",
    "        # Count the number of tasks with the word \"delectus\" in their title\n",
    "        delectus_tasks = sum('delectus' in task['title'].lower() for task in json_data)\n",
    "        \n",
    "        return keys_used, completed_tasks, delectus_tasks\n",
    "    else:\n",
    "        return set(), 0, 0\n",
    "\n",
    "# Fetch data from the todos JSON file\n",
    "todos_url = 'https://jsonplaceholder.typicode.com/todos'\n",
    "todos_response = requests.get(todos_url)\n",
    "todos_data = todos_response.json()\n",
    "\n",
    "# Fetch data from the users JSON file\n",
    "users_url = 'https://jsonplaceholder.typicode.com/users'\n",
    "users_response = requests.get(users_url)\n",
    "users_data = users_response.json()\n",
    "\n",
    "# Explore the todos JSON data\n",
    "keys_used, completed_tasks, delectus_tasks = explore_json(todos_data)\n",
    "\n",
    "# Print information about the todos JSON data\n",
    "print(f\"Keys used in the todos JSON: {keys_used}\")\n",
    "print(f\"Number of completed tasks: {completed_tasks}\")\n",
    "print(f\"Number of tasks with 'delectus' in their title: {delectus_tasks}\")\n",
    "\n",
    "# Find the names of users with the most completed tasks\n",
    "user_completed_tasks = {user['id']: 0 for user in users_data}\n",
    "for task in todos_data:\n",
    "    if task['completed']:\n",
    "        user_completed_tasks[task['userId']] += 1\n",
    "\n",
    "most_completed_user_id = max(user_completed_tasks, key=user_completed_tasks.get)\n",
    "most_completed_user = next(user for user in users_data if user['id'] == most_completed_user_id)\n",
    "most_completed_user_name = most_completed_user['name']\n",
    "\n",
    "print(f\"\\nUser with the most completed tasks: {most_completed_user_name} (UserID: {most_completed_user_id})\")\n",
    "\n"
   ]
  },
  {
   "cell_type": "code",
   "execution_count": null,
   "id": "7fde0378",
   "metadata": {},
   "outputs": [],
   "source": []
  }
 ],
 "metadata": {
  "kernelspec": {
   "display_name": "Python 3 (ipykernel)",
   "language": "python",
   "name": "python3"
  },
  "language_info": {
   "codemirror_mode": {
    "name": "ipython",
    "version": 3
   },
   "file_extension": ".py",
   "mimetype": "text/x-python",
   "name": "python",
   "nbconvert_exporter": "python",
   "pygments_lexer": "ipython3",
   "version": "3.11.4"
  }
 },
 "nbformat": 4,
 "nbformat_minor": 5
}
