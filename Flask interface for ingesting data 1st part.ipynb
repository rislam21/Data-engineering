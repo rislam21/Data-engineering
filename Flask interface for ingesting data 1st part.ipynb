{
 "cells": [
  {
   "cell_type": "code",
   "execution_count": null,
   "id": "b76e7373",
   "metadata": {},
   "outputs": [
    {
     "name": "stdout",
     "output_type": "stream",
     "text": [
      " * Serving Flask app '__main__'\n",
      " * Debug mode: off\n"
     ]
    },
    {
     "name": "stderr",
     "output_type": "stream",
     "text": [
      "WARNING: This is a development server. Do not use it in a production deployment. Use a production WSGI server instead.\n",
      " * Running on http://127.0.0.1:5000\n",
      "Press CTRL+C to quit\n"
     ]
    }
   ],
   "source": [
    "from flask import Flask, request, jsonify\n",
    "import random\n",
    "import string\n",
    "\n",
    "app = Flask(__name__)\n",
    "\n",
    "# Data structure to store books in memory\n",
    "books_inventory = {}\n",
    "book_id_counter = 0\n",
    "\n",
    "\n",
    "def generate_random_title():\n",
    "    return ''.join(random.choices(string.ascii_uppercase + string.digits, k=8))\n",
    "\n",
    "\n",
    "def generate_random_author():\n",
    "    return ''.join(random.choices(string.ascii_uppercase, k=5))\n",
    "\n",
    "\n",
    "def generate_random_year():\n",
    "    return random.randint(1900, 2022)\n",
    "\n",
    "\n",
    "@app.route('/sell/', methods=['POST'])\n",
    "def sell_book():\n",
    "    global book_id_counter\n",
    "    data = request.json\n",
    "    if 'title' in data and 'author' in data and 'year_of_publication' in data:\n",
    "        title = data['title']\n",
    "        author = data['author']\n",
    "        year_of_publication = data['year_of_publication']\n",
    "        book_id_counter += 1\n",
    "        book_id = book_id_counter\n",
    "        # Store book in inventory\n",
    "        books_inventory[book_id] = {'title': title, 'author': author, 'year_of_publication': year_of_publication}\n",
    "        return jsonify({'message': 'Book added to inventory successfully.', 'book_id': book_id}), 201\n",
    "    else:\n",
    "        return jsonify({'error': 'Missing required fields.'}), 400\n",
    "\n",
    "\n",
    "@app.route('/list/', methods=['GET'])\n",
    "def list_inventory():\n",
    "    return jsonify(books_inventory)\n",
    "\n",
    "\n",
    "@app.route('/purchase/<int:book_id>', methods=['GET'])\n",
    "def purchase_book(book_id):\n",
    "    if book_id in books_inventory:\n",
    "        del books_inventory[book_id]\n",
    "        return jsonify({'message': 'Book purchased successfully.'}), 200\n",
    "    else:\n",
    "        return jsonify({'error': 'Book not found in inventory.'}), 404\n",
    "\n",
    "if __name__ == '__main__':\n",
    "    app.run(debug=False)"
   ]
  },
  {
   "cell_type": "code",
   "execution_count": null,
   "id": "a96513d2",
   "metadata": {},
   "outputs": [],
   "source": []
  }
 ],
 "metadata": {
  "kernelspec": {
   "display_name": "Python 3 (ipykernel)",
   "language": "python",
   "name": "python3"
  },
  "language_info": {
   "codemirror_mode": {
    "name": "ipython",
    "version": 3
   },
   "file_extension": ".py",
   "mimetype": "text/x-python",
   "name": "python",
   "nbconvert_exporter": "python",
   "pygments_lexer": "ipython3",
   "version": "3.11.4"
  }
 },
 "nbformat": 4,
 "nbformat_minor": 5
}
